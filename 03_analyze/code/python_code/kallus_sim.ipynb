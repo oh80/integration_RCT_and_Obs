{
 "cells": [
  {
   "cell_type": "code",
   "execution_count": 1,
   "metadata": {},
   "outputs": [],
   "source": [
    "import numpy.random as rand\n",
    "import numpy as np\n",
    "import matplotlib.pyplot as plt\n",
    "from sklearn.linear_model import Ridge as ridge\n",
    "from sklearn.linear_model import Lasso as lasso\n",
    "from sklearn.linear_model import LinearRegression as ols\n",
    "\n",
    "\n",
    "from sklearn.ensemble import RandomForestRegressor as rfr\n",
    "from sklearn.tree import DecisionTreeRegressor as reg_tree\n",
    "from sklearn.ensemble import AdaBoostRegressor as ada_reg\n",
    "from sklearn.ensemble import GradientBoostingRegressor as gbr\n",
    "from sklearn.metrics import mean_squared_error as mse\n",
    "from sklearn.model_selection import train_test_split\n",
    "import copy\n",
    "\n",
    "import matplotlib"
   ]
  },
  {
   "cell_type": "markdown",
   "metadata": {},
   "source": [
    "# read data from R"
   ]
  },
  {
   "cell_type": "code",
   "execution_count": 28,
   "metadata": {},
   "outputs": [],
   "source": [
    "import rpy2.robjects as ro\n",
    "readRDS = ro.r['readRDS']\n",
    "\n",
    "path = 'C:/integraion_RCT_and_Obs/integration_RCT_and_Obs/01_data/data/0805/narrow_1d_n550_1.obj'\n",
    "obj = readRDS(path) \n",
    "obj_kes_list = obj.names "
   ]
  },
  {
   "cell_type": "code",
   "execution_count": 43,
   "metadata": {},
   "outputs": [
    {
     "name": "stdout",
     "output_type": "stream",
     "text": [
      "[1] \"X\"    \"Y\"    \"Tau\"  \"Base\" \"U\"    \"Z\"    \"ID\"   \"info\"\n",
      "\n"
     ]
    }
   ],
   "source": [
    "print(obj_kes_list)"
   ]
  },
  {
   "cell_type": "code",
   "execution_count": null,
   "metadata": {},
   "outputs": [],
   "source": [
    "X_full   = np.array(obj[0])\n",
    "Y_full   = np.array(obj[1])\n",
    "Tau_full = np.array(obj[2])\n",
    "T_full   = np.array(obj[5])\n",
    "ID       = np.array(obj[6])\n",
    "\n",
    "# sepalate  RCT and Obs\n",
    "X   = X_full[ID == \"O\"]\n",
    "X_E = X_full[ID == \"R\"]\n",
    "Y   = Y_full[ID == \"O\"]\n",
    "Y_E = Y_full[ID == \"R\"]\n",
    "T   = T_full[ID == \"O\"]\n",
    "T_E = T_full[ID == \"R\"]"
   ]
  },
  {
   "cell_type": "code",
   "execution_count": 62,
   "metadata": {},
   "outputs": [
    {
     "name": "stdout",
     "output_type": "stream",
     "text": [
      "(1000,) (1000,) (1000,) (1000,)\n"
     ]
    }
   ],
   "source": [
    "X_E = np.random.uniform(-1,1, size=(m,))\n",
    "U_E = np.random.normal(0,1, size=(m,))\n",
    "T_E = rand.randint(0,2,(m,))\n",
    "Y_E = np.vectorize(ft)(T_E, X_E) + U_E + 0.5* np.random.normal(size=U_E.shape)\n",
    "print(X_E.shape, U_E.shape, T_E.shape, Y_E.shape)"
   ]
  },
  {
   "cell_type": "code",
   "execution_count": null,
   "metadata": {},
   "outputs": [
    {
     "data": {
      "text/plain": [
       "numpy.ndarray"
      ]
     },
     "execution_count": 64,
     "metadata": {},
     "output_type": "execute_result"
    }
   ],
   "source": [
    "X_E[T_E>0].reshape(-1,1), Y_E[T_E>0]"
   ]
  },
  {
   "cell_type": "markdown",
   "metadata": {},
   "source": [
    "# DGP"
   ]
  },
  {
   "cell_type": "code",
   "execution_count": 29,
   "metadata": {},
   "outputs": [],
   "source": [
    "m = 1000\n",
    "d = 1"
   ]
  },
  {
   "cell_type": "code",
   "execution_count": 30,
   "metadata": {},
   "outputs": [
    {
     "data": {
      "text/plain": [
       "(1000,)"
      ]
     },
     "execution_count": 30,
     "metadata": {},
     "output_type": "execute_result"
    }
   ],
   "source": [
    "T = rand.randint(0,2,(m,))\n",
    "# T = T.ravel()\n",
    "T.shape"
   ]
  },
  {
   "cell_type": "code",
   "execution_count": 32,
   "metadata": {},
   "outputs": [],
   "source": [
    "mu_0 = 0\n",
    "mu_1 = 0\n",
    "nu_0 = -0.25\n",
    "nu_1 = +0.25\n",
    "kappa = 0.50"
   ]
  },
  {
   "cell_type": "code",
   "execution_count": 33,
   "metadata": {},
   "outputs": [],
   "source": [
    "alpha = [1,2]\n",
    "beta = [1,2]\n",
    "gamma = [0.5,0.75]\n",
    "\n",
    "ft = lambda t,x : alpha[t] + beta[t]*x + gamma[t]*x*x"
   ]
  },
  {
   "cell_type": "code",
   "execution_count": 35,
   "metadata": {
    "scrolled": true
   },
   "outputs": [
    {
     "name": "stdout",
     "output_type": "stream",
     "text": [
      "(1000,) (1000,) (1000,)\n"
     ]
    }
   ],
   "source": [
    "mean = [[mu_0, nu_0],[mu_1, nu_1]]\n",
    "cov = (2*T-1)*kappa\n",
    "X, U = np.zeros(cov.shape), np.zeros(cov.shape[0])\n",
    "for i in range(T.shape[0]):\n",
    "    # int(cov[i])\n",
    "    X[i], U[i] = np.random.multivariate_normal(mean[T[i]], [[1, cov[i]],[cov[i],1]]).T\n",
    "print(X.shape,U.shape,cov.shape)"
   ]
  },
  {
   "cell_type": "code",
   "execution_count": 36,
   "metadata": {},
   "outputs": [
    {
     "data": {
      "text/plain": [
       "(1000,)"
      ]
     },
     "execution_count": 36,
     "metadata": {},
     "output_type": "execute_result"
    }
   ],
   "source": [
    "Y = np.vectorize(ft)(T,X) + U + 0.5* np.random.normal(size=U.shape)\n",
    "Y.shape"
   ]
  },
  {
   "cell_type": "code",
   "execution_count": 53,
   "metadata": {
    "scrolled": false
   },
   "outputs": [
    {
     "name": "stdout",
     "output_type": "stream",
     "text": [
      "(1000,) (1000,) (1000,) (1000,)\n"
     ]
    }
   ],
   "source": [
    "X_E = np.random.uniform(-1,1, size=(m,))\n",
    "U_E = np.random.normal(0,1, size=(m,))\n",
    "T_E = rand.randint(0,2,(m,))\n",
    "Y_E = np.vectorize(ft)(T_E, X_E) + U_E + 0.5* np.random.normal(size=U_E.shape)\n",
    "print(X_E.shape, U_E.shape, T_E.shape, Y_E.shape)"
   ]
  },
  {
   "cell_type": "code",
   "execution_count": 11,
   "metadata": {},
   "outputs": [],
   "source": [
    "from lin_eta_gaussianU import generate_data_with_linear_eta"
   ]
  },
  {
   "cell_type": "markdown",
   "metadata": {},
   "source": [
    "# model"
   ]
  },
  {
   "cell_type": "code",
   "execution_count": 50,
   "metadata": {},
   "outputs": [],
   "source": [
    "regs = [rfr(n_estimators=i) for i in [10, 20, 40, 60, 100, 150, 200]]\n",
    "regs += [reg_tree(max_depth=i) for i in [5, 10, 20, 30, 40, 50]]\n",
    "regs += [ada_reg(n_estimators=i) for i in [10, 20, 50, 70, 100, 150, 200]]\n",
    "regs += [gbr(n_estimators=i) for i in [50, 70, 100, 150, 200]]"
   ]
  },
  {
   "cell_type": "code",
   "execution_count": 66,
   "metadata": {},
   "outputs": [],
   "source": [
    "def get_best_for_data(X, Y, regs):\n",
    "    x_train, x_test, y_train, y_test = train_test_split(X, Y, test_size = 0.2) # doesn't change X\n",
    "    val_errs = []\n",
    "    models = []\n",
    "    for reg in regs:\n",
    "        model = copy.deepcopy(reg)\n",
    "        model.fit(x_train, y_train)\n",
    "        val_errs.append(mse(y_test, model.predict(x_test)))\n",
    "        models.append(copy.deepcopy(model))\n",
    "    min_ind = val_errs.index(min(val_errs))\n",
    "    print(str(model)[:40], val_errs[min_ind])\n",
    "    return copy.deepcopy(models[min_ind])\n",
    "    "
   ]
  },
  {
   "cell_type": "code",
   "execution_count": 89,
   "metadata": {},
   "outputs": [
    {
     "name": "stdout",
     "output_type": "stream",
     "text": [
      "GradientBoostingRegressor(n_estimators=2 2.5752782994860315\n",
      "GradientBoostingRegressor(n_estimators=2 1.2301654416857166\n",
      "GradientBoostingRegressor(n_estimators=2 1.060875846659241\n",
      "GradientBoostingRegressor(n_estimators=2 1.625002326202793\n"
     ]
    }
   ],
   "source": [
    "f1pred_exp = get_best_for_data(X_E[T_E>0].reshape(-1,1), Y_E[T_E>0], regs)\n",
    "f0pred_exp = get_best_for_data(X_E[T_E==0].reshape(-1,1), Y_E[T_E==0], regs)\n",
    "f1pred_obs = get_best_for_data(X[T>0].reshape(-1,1), Y[T>0], regs)\n",
    "f0pred_obs = get_best_for_data(X[T==0].reshape(-1,1), Y[T==0], regs)\n",
    "\n",
    "# f0pred_exp.fit(X[T==0].reshape(-1, 1),Y[T==0])\n",
    "# f1pred_obs.fit(X_E[T_E>0].reshape(-1, 1),Y_E[T_E>0])\n",
    "# f0pred_obs.fit(X_E[T_E==0].reshape(-1, 1),Y_E[T_E==0])"
   ]
  },
  {
   "cell_type": "code",
   "execution_count": 90,
   "metadata": {},
   "outputs": [
    {
     "name": "stdout",
     "output_type": "stream",
     "text": [
      "(550,)\n",
      "(550,)\n",
      "(550,)\n"
     ]
    }
   ],
   "source": [
    "X_full = np.hstack((X, X_E))\n",
    "print(X_full.shape)\n",
    "Y_full = np.hstack((Y, Y_E))\n",
    "print(Y_full.shape)\n",
    "T_full = np.hstack((T, T_E))\n",
    "neg_T = 2*T-1\n",
    "neg_T_full = 2*T_full -1\n",
    "exp_filter = np.array([False]*int(X_full.shape[0]/2) + [True]*int(X_full.shape[0]/2) )\n",
    "print(exp_filter.shape)"
   ]
  },
  {
   "cell_type": "code",
   "execution_count": 91,
   "metadata": {},
   "outputs": [
    {
     "name": "stdout",
     "output_type": "stream",
     "text": [
      "(150,) (150,)\n"
     ]
    }
   ],
   "source": [
    "omega = f1pred_obs.predict(X_E.reshape(-1,1)) - f0pred_obs.predict(X_E.reshape(-1,1)) \n",
    "tau = f1pred_exp.predict(X_E.reshape(-1,1)) - f0pred_exp.predict(X_E.reshape(-1,1))\n",
    "print(omega.shape, tau.shape)"
   ]
  },
  {
   "cell_type": "code",
   "execution_count": 92,
   "metadata": {},
   "outputs": [
    {
     "name": "stdout",
     "output_type": "stream",
     "text": [
      "(150,) (150,)\n"
     ]
    }
   ],
   "source": [
    "omega_O = f1pred_obs.predict(X.reshape(-1,1)) - f0pred_obs.predict(X.reshape(-1,1)) \n",
    "tau_O = f1pred_exp.predict(X.reshape(-1,1)) - f0pred_exp.predict(X.reshape(-1,1))\n",
    "print(omega.shape, tau.shape)"
   ]
  },
  {
   "cell_type": "code",
   "execution_count": 93,
   "metadata": {},
   "outputs": [
    {
     "name": "stdout",
     "output_type": "stream",
     "text": [
      "(150,)\n",
      "(400,)\n"
     ]
    }
   ],
   "source": [
    "eta_est = tau - omega\n",
    "print(eta_est.shape)\n",
    "eta_est_O = tau_O - omega_O\n",
    "print(eta_est_O.shape)"
   ]
  },
  {
   "cell_type": "code",
   "execution_count": 94,
   "metadata": {},
   "outputs": [
    {
     "name": "stdout",
     "output_type": "stream",
     "text": [
      "Ridge(alpha=1e-10) 0.8888393935053877\n",
      "0.7148862503851928\n"
     ]
    }
   ],
   "source": [
    "# eta_ridge= ridge()\n",
    "eta_ridge = get_best_for_data(X_E.reshape(-1, 1), eta_est, [ridge(alpha=a) for a in [1e-10]])# , 1e-5, 1e-4]])# ,1e-2,1,1e+2,1e+4, 1e+5]])\n",
    "print(mse(eta_est, eta_ridge.predict(X_E.reshape(-1, 1))))\n",
    "# print(mse(eta, -6*kappa*X_full))"
   ]
  },
  {
   "cell_type": "code",
   "execution_count": 95,
   "metadata": {},
   "outputs": [
    {
     "name": "stdout",
     "output_type": "stream",
     "text": [
      "(550,) (550,)\n"
     ]
    }
   ],
   "source": [
    "mu_T_full = np.array([mean[t][0] for t in T_full]).ravel()\n",
    "nu_T_full = np.array([mean[t][1] for t in T_full]).ravel()\n",
    "print(mu_T_full.shape, nu_T_full.shape)"
   ]
  },
  {
   "cell_type": "code",
   "execution_count": 96,
   "metadata": {},
   "outputs": [
    {
     "name": "stdout",
     "output_type": "stream",
     "text": [
      "[0.4908413] -0.6395503142819403\n",
      "-1.0 -0.5\n"
     ]
    }
   ],
   "source": [
    "print(eta_ridge.coef_, eta_ridge.intercept_)\n",
    "lambda_1 = nu_1 - kappa*mu_1\n",
    "lambda_0 = nu_0 + kappa*mu_0\n",
    "\n",
    "print(-2*kappa, -lambda_1 + lambda_0)"
   ]
  },
  {
   "cell_type": "markdown",
   "metadata": {},
   "source": [
    "# plot"
   ]
  },
  {
   "cell_type": "code",
   "execution_count": 105,
   "metadata": {},
   "outputs": [],
   "source": [
    "tau   = Tau_full[ID == \"O\"]\n",
    "tau_E = Tau_full[ID == \"R\"]"
   ]
  },
  {
   "cell_type": "code",
   "execution_count": 126,
   "metadata": {},
   "outputs": [],
   "source": [
    "test_X = np.arange(-3,3,0.01)\n",
    "true_test_tau = test_X * test_X\n",
    "\n",
    "omega =  f1pred_obs.predict(test_X.reshape(-1, 1)) - f0pred_obs.predict(test_X.reshape(-1, 1))\n",
    "eta   = eta_ridge.predict(test_X.reshape(-1, 1))"
   ]
  },
  {
   "cell_type": "code",
   "execution_count": 127,
   "metadata": {},
   "outputs": [
    {
     "data": {
      "image/png": "[encoded data removed]",
      "text/plain": [
       "<Figure size 800x600 with 1 Axes>"
      ]
     },
     "metadata": {},
     "output_type": "display_data"
    }
   ],
   "source": [
    "plt.figure(figsize=(8,6))\n",
    "plt.scatter(test_X, true_test_tau, label='true tau', s=11)\n",
    "plt.scatter(test_X, omega + eta , label='pred tau', s=11)\n",
    "plt.legend()\n",
    "plt.show()"
   ]
  },
  {
   "cell_type": "code",
   "execution_count": 128,
   "metadata": {},
   "outputs": [],
   "source": [
    "from sklearn.metrics import mean_squared_error as mse"
   ]
  },
  {
   "cell_type": "code",
   "execution_count": 129,
   "metadata": {},
   "outputs": [
    {
     "data": {
      "text/plain": [
       "0.694222119051742"
      ]
     },
     "execution_count": 129,
     "metadata": {},
     "output_type": "execute_result"
    }
   ],
   "source": [
    "mse(true_test_tau,  omega + eta)"
   ]
  },
  {
   "cell_type": "code",
   "execution_count": null,
   "metadata": {},
   "outputs": [],
   "source": []
  }
 ],
 "metadata": {
  "kernelspec": {
   "display_name": "integration-rct-and-obs",
   "language": "python",
   "name": "python3"
  },
  "language_info": {
   "codemirror_mode": {
    "name": "ipython",
    "version": 3
   },
   "file_extension": ".py",
   "mimetype": "text/x-python",
   "name": "python",
   "nbconvert_exporter": "python",
   "pygments_lexer": "ipython3",
   "version": "3.12.0"
  }
 },
 "nbformat": 4,
 "nbformat_minor": 2
}
